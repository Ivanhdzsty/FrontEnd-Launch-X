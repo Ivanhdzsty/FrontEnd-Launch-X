{
 "cells": [
  {
   "cell_type": "markdown",
   "metadata": {},
   "source": [
    "# HTML\n",
    "\n",
    "____________________________\n",
    "\n",
    "HTML es el lenguaje que nos permite darle estructura a nuestras páginas web y que nos da la oportunidad de darle un esqueleto a nuestros sitios.\n",
    "\n",
    "En este módulo veremos las siguientes cosas.\n",
    "\n",
    "2. HTML\n",
    "    - Qué es HTML y estructura de archivo\n",
    "    - Etiquetas básicas\n",
    "    - Elementos compuestos\n",
    "    - Acomodo y navegación\n",
    "    - Propiedades de etiquetas\n",
    "  \n",
    "_________________________________________________\n",
    "\n",
    "## **¿Qué es y cómo funciona HTML?**\n",
    "\n",
    "El HTML es el HyperText Markup Language y es el lenguaje estándar que se utiliza para estructurar las páginas web, ya que nos permite darle un esqueleto a nuestros sitios y organizar nuestra información de la manera adecuada.\n",
    "\n",
    "!(HTML)[HTML.PNG]\n",
    "\n",
    "Empezaremos con algunos elementos base para poder trabajar en HTML, comenzando por los headings, los párrafos, los links, las imágenes, las tablas y las listas, estos 6 elementos nos ayudaran a estructurar un archivo de HTML, para después mostrarlo en una página. Pero antes de comenzar con lo bueno de programación, definamos como funciona, para que es y de donde surge el HTML con un poco de historia, para entender para que necesitásemos aprender HTML si queremos ser desarrolladores Frontend.\n",
    "\n",
    "HTML significa “HyperText Markup Language”, es un lenguaje de hipertexto para poder hacer estructuras de páginas y es el lenguaje estándar que utilizan todos los navegadores para interpretar la estructura de tu página, permitiéndole leer y saber los elementos que contiene, su posición, e incluso tu posicionamiento dentro de los buscadores, lo cuál esta estrictamente relacionado con la optimización de motores de búsqueda (SEO) para que la información de tu sitio este bien posicionada dentro de internet, y las personas la encuentren con mayor facilidad, puesto que nos permite darle un esqueleto a nuestros sitios y organizar nuestra información de la manera adecuada, conforme vayamos avanzando en la misión puntualizaremos más en ello.\n",
    "\n",
    "HTML existe desde hace un poco más de 20 años, el mismo tiempo de funcionamiento de los navegadores, conforme pasan los años este lenguaje ha ido evolucionando y actualmente nos encontramos en la versión HTML 5, que justamente será con la que trabajaremos a continuación. Esta versión es soportada por la gran mayoría de los navegadores, a excepción a veces de Internet Explorer que le cuesta interpretar el lenguaje, sin embargo, Chrome, Safari, Firefox, Opera, Brave, etc, logran interpretar de manera correcta HTML. No olviden que en la primera semana les deje una herramienta que les permite revisar si la tecnología que están usando se visualiza de forma correcta en los navegadores existentes.\n",
    "\n",
    "### Estructura HTML\n",
    "\n",
    "De forma general podemos ver que todas las palabras tienen dos corchetes <>, uno al inicio y otro al final, uno que abre y otro que cierra con una diagonal antes de la palabra, lo cual es parte de la sintaxis, a esto se le conoce como “etiquetas”, las cuáles se encargan de delimitar cada cuando se está poniendo un inicio y un final de cierto elemento en HTML, la posición de cada elemento en html se rige por estas etiquetas.\n",
    "\n",
    "Se refiere al tipo de documento, se encarga de que el navegador pueda interpretar y leer que el contenido es un archivo de HTML. Nos define nuestra estructura raíz que indica que dentro de ese html tenemos el contenido, todo lo que este fuera de ello no será interpretado por nuestro navegador. Lang se refiere al languaje, que significa lenguaje y se refiere al idioma en el que va a estar nuestra página. Por lo general, se mantiene en inglés, porque para html usaremos distintos caracteres en inglés, sin embargo, puede cambiarse a cualquier otro idioma.\n",
    "\n",
    "Por ejemplo, para trabajar en español se utiliza el cual también tiene sus variaciones ya sea español de España, Latinoamericano, etc, pero también aplica para cualquier otro idioma Frances, portugués, Japonés etc. Cambiar el idioma va a influir directamente en el SEO “Search Engine Optimization” (Optimización de motores de búsqueda), puesto que si nosotros estamos buscando las cosas en español, probablemente nos aparezca que el esta en español, el saber esto es de suma importancia por si quisiéramos llegar a un usuario objetivo.\n",
    "\n",
    "Es lo primero que lee el navegador, e incluye metadatos, los cuáles son muy valiosos en cuanto a cookies, scripts, tracking de usuarios, entre otras opciones. Se encarga de los metadatos (datos de los datos) nos sirven para poder configurar nuestro archivo de html, y en específico aquí para indicar que set de caracteres usaremos en la página dependiendo del teclado que se use, el UTF-8 funciona con inglés y español pero si estuviéramos programando en una página en otro idioma que tuviera ciertos caracteres especiales y diferentes, tendríamos que cambiar el UTF-8 por el correspondiente."
   ]
  },
  {
   "cell_type": "code",
   "execution_count": 1,
   "metadata": {},
   "outputs": [
    {
     "ename": "SyntaxError",
     "evalue": "invalid syntax (252311151.py, line 1)",
     "output_type": "error",
     "traceback": [
      "\u001b[1;36m  Cell \u001b[1;32mIn [1], line 1\u001b[1;36m\u001b[0m\n\u001b[1;33m    <meta http-equiv=\"“X-UA-Compatible”\" content=\"“IE\" =\"edge”\" />\u001b[0m\n\u001b[1;37m    ^\u001b[0m\n\u001b[1;31mSyntaxError\u001b[0m\u001b[1;31m:\u001b[0m invalid syntax\n"
     ]
    }
   ],
   "source": [
    "<meta http-equiv=\"“X-UA-Compatible”\" content=\"“IE\" =\"edge”\" />"
   ]
  },
  {
   "cell_type": "markdown",
   "metadata": {},
   "source": [
    "Indica el contenido tiene que ser equivalente de Internet Explorer."
   ]
  },
  {
   "cell_type": "code",
   "execution_count": null,
   "metadata": {},
   "outputs": [],
   "source": [
    "<meta\n",
    "  name=\"“viewport”\"\n",
    "  content=\"“width\"\n",
    "  =\"device-width,\"\n",
    "  initial-scale=\"1.0”\"\n",
    "/>"
   ]
  },
  {
   "cell_type": "markdown",
   "metadata": {},
   "source": [
    "Se refiera a la vista general de nuestro sitio, como va a estar desplegado por defecto, el cual contiene un ancho de la muestra del sitio igual que el ancho de nuestro dispositivo, con un “inicial-scale=1.0 que sirve para el zoom o zoom out, dependiendo de cómo es que nosotros queramos nuestra página."
   ]
  },
  {
   "cell_type": "code",
   "execution_count": null,
   "metadata": {},
   "outputs": [],
   "source": [
    "<title>Titulo</title>"
   ]
  },
  {
   "cell_type": "markdown",
   "metadata": {},
   "source": [
    "Es el título de nuestro sitio en el head."
   ]
  },
  {
   "cell_type": "code",
   "execution_count": null,
   "metadata": {},
   "outputs": [],
   "source": [
    "<style></style>"
   ]
  },
  {
   "cell_type": "markdown",
   "metadata": {},
   "source": [
    "Son etiquetas de estilos nos permite importar archivos de otro tipo como por ejemplo de Javascript, CSS, etc. Al ingresar a una página el navegador descarga la página de internet y se lo muestra al cliente. Se descargan los estilos, funcionalidades, etc. Este orden es importante para que la página se visualice de forma ordenada.\n",
    "\n",
    "Finalmente tenemos lo siguiente:\n",
    "\n",
    "Es el cuerpo de nuestra página, donde podemos poner las diferentes etiquetas y elementos de HTML que nosotros queramos utilizar para que la página esté funcionando de forma correcta. En la siguiente lección veremos el contenido dentro del como lo son los headings los párrafos, los links, las imágenes, etc. "
   ]
  },
  {
   "cell_type": "markdown",
   "metadata": {},
   "source": [
    "____________________________\n",
    "## Etiquetas básicas\n",
    "\n",
    "En este módulo veremos algunas de las etiquetas fundamentales de elementos de HTML que utilizaremos para mostrar la información que nosotros necesitemos.\n",
    "\n",
    "Mas sobre el tema video:\n",
    "\n",
    "https://web.microsoftstream.com/video/c73b37ee-1522-4773-85ef-a20ae99b7012?referrer=https:%2F%2Fgithub.com%2F\n",
    "\n",
    "Mas sobre el tema codigo:\n",
    "\n",
    "https://github.com/Launch-X-Latam/MisionFrontEnd/blob/main/02%20-%20HTML/programas/1.-etiquetasBasicas.html\n",
    "\n",
    "### Headings\n",
    "\n",
    "Estos títulos que nos van a permitir resaltar información en tamaño y visibilidad, además de cuestiones de SEO.\n",
    "\n",
    "Generar una etiqueta heading\n",
    "\n"
   ]
  },
  {
   "cell_type": "code",
   "execution_count": null,
   "metadata": {},
   "outputs": [],
   "source": [
    "<h1>Bienvenidos Explores</h1>\n",
    "<h2>Bienvenidos Explores</h2>\n",
    "<h3>Bienvenidos Explores</h3>"
   ]
  },
  {
   "cell_type": "markdown",
   "metadata": {},
   "source": [
    "El valor que corresponde a la letra “h” puede ir del 1 al 6, permite ordenar estos títulos del más importante al menos importante, por ejemplo, un h2 puede utilizarse en títulos y subtítulos.\n",
    "\n",
    "El valor de estas “h” están estrictamente relacionados con la jerarquía de las búsquedas en internet, si dos páginas tuvieran un mismo heading pero uno tuviera h1 y otro h6, el navegador le daría prioridad al h1, por lo que aparecería entre las primeras búsquedas en el navegador, debido a que lo considera como información importante y valiosa.\n",
    "\n",
    "Nota: **No te olvides que para desplegar tu proyecto y poder visualizarlo debes crear una carpeta con tu archivo html y abrirlo en tu navegador**\n",
    "\n",
    "### Párrafos\n",
    "\n",
    "Te permiten ingresar información, y su etiqueta se muestra de la siguiente manera:"
   ]
  },
  {
   "cell_type": "code",
   "execution_count": null,
   "metadata": {},
   "outputs": [],
   "source": [
    "<p>contenido</p>"
   ]
  },
  {
   "cell_type": "markdown",
   "metadata": {},
   "source": [
    "Donde tenemos el contenido podemos poner la información que queremos que se visualice en nuestro navegador, pero recuerda aún sin estilos, porque eso lo veremos en otra lección.\n",
    "\n",
    "Podemos agregar un párrafo adicional con salto de línea por defecto, pero si queremos poner párrafos separados dentro del mismo, sin el salto de línea podemos ajustarlo con la siguiente etiqueta:"
   ]
  },
  {
   "cell_type": "code",
   "execution_count": null,
   "metadata": {},
   "outputs": [],
   "source": [
    "<br />"
   ]
  },
  {
   "cell_type": "markdown",
   "metadata": {},
   "source": [
    "Y conoce como break line."
   ]
  },
  {
   "cell_type": "markdown",
   "metadata": {},
   "source": [
    "### Enlaces (links)\n",
    "\n",
    "Te permite colocar un link como si fuera un hipervínculo, por medio de una palabra o varias podrás dirigirte al link que le indiques al usuario, utilizando la siguiente etiqueta"
   ]
  },
  {
   "cell_type": "code",
   "execution_count": null,
   "metadata": {},
   "outputs": [],
   "source": [
    "<a href=\"https://github.com/Launch-X-Latam\" target=\"blank\">Link a LaunchX</a>\n",
    "<br />"
   ]
  },
  {
   "cell_type": "markdown",
   "metadata": {},
   "source": [
    "La letra “a” hace referencia al atributo que indica hacia donde te va a dirigir. Dentro de la misma etiqueta podemos agregar otro atributo, por ejemplo, un target= blank lo que nos permite abrir en una pestaña nueva la página del link que indicamos.\n",
    "\n",
    "Es muy útil cuando queremos llevar al usuario a ciertas páginas estratégicas, por ejemplo, a nuestras redes sociales, la compra de algún producto, etc."
   ]
  },
  {
   "cell_type": "markdown",
   "metadata": {},
   "source": [
    "### Imágenes"
   ]
  },
  {
   "cell_type": "code",
   "execution_count": null,
   "metadata": {},
   "outputs": [],
   "source": [
    "<img\n",
    "  src=\"https://i.imgur.com/84QT6os.jpeg\"\n",
    "  alt=\"Perritos lindos\"\n",
    "  width=\"350px\"\n",
    "  height=\"350px\"\n",
    "/>"
   ]
  },
  {
   "cell_type": "markdown",
   "metadata": {},
   "source": [
    "Contiene dos atributos, source o bien \"src\" que se refiere a la fuente de donde vamos a usar la imagen, la cuál puede ser de forma local o una imagen de internet y \"alt\" que significa texto alternativo, este texto alternativo le va a dar la descripción a la imagen. También podemos usar otros atributos como \"width\" y \"height\" donde vamos a poner una cantidad en pixeles que son el alto y el ancho de la imagen."
   ]
  },
  {
   "cell_type": "markdown",
   "metadata": {},
   "source": [
    "### Tablas\n",
    "\n",
    "Este elemento nos sirve para organizar información, imágenes, links, etc."
   ]
  },
  {
   "cell_type": "code",
   "execution_count": null,
   "metadata": {},
   "outputs": [],
   "source": [
    "<table>\n",
    "  <tr>\n",
    "    <th>Compañía</th>\n",
    "    <th>Contacto</th>\n",
    "    <th>País</th>\n",
    "  </tr>\n",
    "  <tr>\n",
    "    <td>Alfreds Futterkiste</td>\n",
    "    <td>Maria Anders</td>\n",
    "    <td>Germany</td>\n",
    "  </tr>\n",
    "  <tr>\n",
    "    <td>Centro comercial Moctezuma</td>\n",
    "    <td>Francisco Chang</td>\n",
    "    <td>Mexico</td>\n",
    "  </tr>\n",
    "</table>"
   ]
  },
  {
   "cell_type": "markdown",
   "metadata": {},
   "source": [
    "### Lista\n",
    "\n",
    "Para agregar un elemento a la lista usamos la siguiente etiqueta:"
   ]
  },
  {
   "cell_type": "code",
   "execution_count": null,
   "metadata": {},
   "outputs": [],
   "source": [
    "<li>café</li>"
   ]
  },
  {
   "cell_type": "code",
   "execution_count": null,
   "metadata": {},
   "outputs": [],
   "source": [
    "<ul>\n",
    "  <li>Café</li>\n",
    "  <li>Arroz</li>\n",
    "  <li>leche</li>\n",
    "  <li>huevos</li>\n",
    "</ul>"
   ]
  },
  {
   "cell_type": "markdown",
   "metadata": {},
   "source": [
    "**ul** significa \"unordered list\" es decir una lista que no tiene orden."
   ]
  },
  {
   "cell_type": "code",
   "execution_count": null,
   "metadata": {},
   "outputs": [],
   "source": [
    "<ol>\n",
    "  <li>Alumno1</li>\n",
    "  <li>Alumno2</li>\n",
    "  <li>Alumno3</li>\n",
    "</ol>"
   ]
  },
  {
   "cell_type": "markdown",
   "metadata": {},
   "source": [
    "**ol** significa \"ordered list\" y te mostrara una lista en orden jerárquico."
   ]
  },
  {
   "cell_type": "code",
   "execution_count": null,
   "metadata": {},
   "outputs": [],
   "source": [
    "<dl>\n",
    "  <dt>Enchiladas</dt>\n",
    "  <dd>- Tortilla frita con salsa, rellena de pollo</dd>\n",
    "  <dt>Molletes</dt>\n",
    "  <dd>- Bolillo con frijoles y queso</dd>\n",
    "</dl>"
   ]
  },
  {
   "cell_type": "markdown",
   "metadata": {},
   "source": [
    "__________________________________\n",
    "\n",
    "## Elementos Compuestos\n",
    "\n",
    "Que onda Explorers, vamos a empezar con las entradas en páginas web, estas entradas son muy útiles para tener nuestra interfaz con los usuarios.\n",
    "\n",
    "video https://web.microsoftstream.com/video/fedb8772-5239-4706-9ee4-a347eba21a29\n",
    "\n",
    "Codigo: https://github.com/Launch-X-Latam/MisionFrontEnd/blob/main/02%20-%20HTML/programas/2.-elementosCompuestos.html"
   ]
  },
  {
   "cell_type": "markdown",
   "metadata": {},
   "source": [
    "### File: 3.-elementosCompuestos1.wav\n",
    "\n",
    "Con lo que vamos a estar interactuando, tienen texto y tienen interaccion, escribir, apretar, seleccionar\n",
    "\n",
    "¡Hola Explorers! Bienvenidos a otra sesión de HTML.\n",
    "\n",
    "El día de hoy hablaremos de los elementos compuestos, específicamente de los formularios. Los formularios son pieza clave de muchas páginas y aplicaciones web, un ejemplo sencillo de estos, son los formularios de contacto, de inicio de sesión, de selección, entre muchos otros, su principal característica es que tienen entradas que recaban información de nuestro usuario y de igual forma tiene botones que capturan o enviar esta información.\n",
    "\n",
    "Pregúntate en que páginas o aplicaciones has visto estos formularios, revísalas, seguro llenaste algunos campos como por ejemplo tu correo o número de teléfono para que te contactaran. Incluso, WhatsApp tiene un campo de texto en donde tu escribes y envías información, un tweet, una foto en Instagram, piensa en cosas simples que usas en el día a día. Como podrás notar, nuestros teléfonos y computadoras tienen formularios en todos lados, únicamente varía el estilo y la forma de interacción.\n"
   ]
  },
  {
   "cell_type": "markdown",
   "metadata": {},
   "source": [
    "### Crear un formulario.\n",
    "\n",
    "Tipos de entradas (inputs)\n",
    "\n",
    "Entrada de tipo texto"
   ]
  },
  {
   "cell_type": "code",
   "execution_count": null,
   "metadata": {},
   "outputs": [],
   "source": [
    "<input type=\"text\" id=\"Input1\" name=\"Input1\">"
   ]
  },
  {
   "cell_type": "markdown",
   "metadata": {},
   "source": [
    "Los atributos id y nombre nos van a permitir identificarlos, y es de suma importancia para saber a qué campo nos estamos refiriendo, para cuando tengamos más de un input, y tengamos que utilizar su información en el backend o para procesarlos después. Estos atributos también pueden colocarse en cualquier otro elemento.\n",
    "\n",
    "Etiquetas (labels) Permite etiquetar un elemento Las etiquetas usualmente se colocan antes del elemento que deseas etiquetar. Y puedes colocarlo en la posición que tú quieras, al frente de tu input, arriba, abajo, etc., pero no te olvides de pensar siempre en el usuario en la legibilidad de lectura."
   ]
  },
  {
   "cell_type": "code",
   "execution_count": null,
   "metadata": {},
   "outputs": [],
   "source": [
    "<label for=\"Input1\">Ejemplo de input de texto</label>"
   ]
  },
  {
   "cell_type": "markdown",
   "metadata": {},
   "source": [
    "De esta forma estas indicando que el input de texto identificado como \"Input1\" tendrá una etiqueta llamada \"Ejemplo de input de texto\".\n",
    "\n",
    "El código en orden queda de la siguiente manera:"
   ]
  },
  {
   "cell_type": "code",
   "execution_count": null,
   "metadata": {},
   "outputs": [],
   "source": [
    "<label for=\"Input1\">Ejemplo de input de texto</label>\n",
    "<input type=\"text\" id=\"Input1\" name=\"Input1\">"
   ]
  },
  {
   "cell_type": "markdown",
   "metadata": {},
   "source": [
    "Aquí más ejemplos de inputs de tipo de texto\n",
    "\n",
    "Input de correo"
   ]
  },
  {
   "cell_type": "code",
   "execution_count": null,
   "metadata": {},
   "outputs": [],
   "source": [
    "<h2>Input De Texto</h2>\n",
    "    <label for=\"correo1\">Input de Correo</label><br>\n",
    "    <input type=\"email\" id=\"correo1\" name=\"correo1\"><br><br>"
   ]
  },
  {
   "cell_type": "code",
   "execution_count": null,
   "metadata": {},
   "outputs": [],
   "source": [
    "El input de correo va a validar que la información dentro del input tenga un formato de correo, es decir que contenga elementos vitales como una arroba, un punto, etc. De lo contrario le indicara al usuario que es un correo inválido, esta última funcionalidad se usa con Javascript y estilos.\n",
    "\n",
    "Input de número"
   ]
  },
  {
   "cell_type": "code",
   "execution_count": null,
   "metadata": {},
   "outputs": [],
   "source": [
    " <label for=\"numero1\">Input de número</label><br>\n",
    "    <input type=\"number\" id=\"numero1\" name=\"numero1\"><br><br>\n",
    "\n",
    "Valida que solo puedas ingresar datos de tipo número y no letras. "
   ]
  },
  {
   "cell_type": "markdown",
   "metadata": {},
   "source": [
    "Input de password"
   ]
  },
  {
   "cell_type": "code",
   "execution_count": null,
   "metadata": {},
   "outputs": [],
   "source": [
    " <label for=\"psw1\">Input de Password</label><br>\n",
    "    <input type=\"password\" id=\"psw1\" name=\"psw1\"><br><br>\n",
    "\n",
    "El input de tipo password oculta la información para que no se muestre. "
   ]
  },
  {
   "cell_type": "markdown",
   "metadata": {},
   "source": [
    "Input de teléfono"
   ]
  },
  {
   "cell_type": "code",
   "execution_count": null,
   "metadata": {},
   "outputs": [],
   "source": [
    "  <label for=\"tel1\">Input de Teléfono</label><br>\n",
    "    <input type=\"tel\" id=\"tel1\" name=\"tel1\" maxlength=\"10\"><br><br>\n",
    "\n",
    "El input de teléfono valida que únicamente puedas ingresar 10 dígitos, por medio del maxlength=\"10\". "
   ]
  },
  {
   "cell_type": "markdown",
   "metadata": {},
   "source": [
    "Input de URL"
   ]
  },
  {
   "cell_type": "code",
   "execution_count": null,
   "metadata": {},
   "outputs": [],
   "source": [
    "  <label for=\"url1\">Input de URL</label><br>\n",
    "    <input type=\"url\" id=\"url1\" name=\"url1\"><br><br>\n",
    "\n",
    "Valida que la URL tenga ciertas características, identifica que sea una URL válida. "
   ]
  },
  {
   "cell_type": "markdown",
   "metadata": {},
   "source": [
    "La importancia de usar de forma correcta estas validaciones dentro de cada tipo de formulario nos va a permitir protegernos de la información que llega a nuestra base de datos y evitar tener información \"sucia\" o incluso ataques por medio de la información ingresada.\n",
    "\n",
    "Recuerda, únicamente se valida si cumple con el formato que estableciste en el código, más no si el número existe o la URL."
   ]
  },
  {
   "cell_type": "markdown",
   "metadata": {},
   "source": [
    "___________________________________\n",
    "\n",
    "## Acomodo y Navegación\n",
    "\n",
    "Link de ejemplo: https://github.com/Launch-X-Latam/MisionFrontEnd/blob/main/02%20-%20HTML/programas/3.-layoutYRutas.html"
   ]
  },
  {
   "cell_type": "markdown",
   "metadata": {},
   "source": [
    "____________________________\n",
    "\n",
    "## Propiedades\n",
    "\n",
    "Excel con todas las propiedades y las etiquetas que se le pueden poner.\n",
    "\n",
    "https://github.com/Launch-X-Latam/MisionFrontEnd/blob/main/02%20-%20HTML/programas/atributosHTML.xlsx"
   ]
  }
 ],
 "metadata": {
  "kernelspec": {
   "display_name": "Python 3.10.5 64-bit",
   "language": "python",
   "name": "python3"
  },
  "language_info": {
   "codemirror_mode": {
    "name": "ipython",
    "version": 3
   },
   "file_extension": ".py",
   "mimetype": "text/x-python",
   "name": "python",
   "nbconvert_exporter": "python",
   "pygments_lexer": "ipython3",
   "version": "3.10.5"
  },
  "orig_nbformat": 4,
  "vscode": {
   "interpreter": {
    "hash": "adf7266cbb14b4315654a88284539e6e6afc4e6f9b768c658fe8cdc8fc508035"
   }
  }
 },
 "nbformat": 4,
 "nbformat_minor": 2
}
